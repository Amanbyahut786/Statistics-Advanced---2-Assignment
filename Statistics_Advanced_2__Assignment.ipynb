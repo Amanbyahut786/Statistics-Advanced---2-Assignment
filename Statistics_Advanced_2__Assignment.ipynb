{
  "nbformat": 4,
  "nbformat_minor": 0,
  "metadata": {
    "colab": {
      "private_outputs": true,
      "provenance": []
    },
    "kernelspec": {
      "name": "python3",
      "display_name": "Python 3"
    },
    "language_info": {
      "name": "python"
    }
  },
  "cells": [
    {
      "cell_type": "markdown",
      "source": [
        "# Statistics Advanced - 2| Assignment"
      ],
      "metadata": {
        "id": "ip8-dM62PQ2y"
      }
    },
    {
      "cell_type": "markdown",
      "source": [
        "## Question 1: What is hypothesis testing in statistics ?\n",
        "\n",
        "Ans.\n",
        "\n",
        "   * Hypothesis testing is a statistical method used to determine whether there is enough evidence in a sample of data to infer that a certain condition is true for the entire population. It's a formal procedure to test a claim or hypothesis about a population parameter.\n",
        "\n",
        "###* It typically involves the following steps:\n",
        "\n",
        "###1. Formulate the null and alternative hypotheses:\n",
        "* The null hypothesis ($H_0$$H_0$) is a statement of no effect or no difference, while the alternative hypothesis ($H_1$$H_1$) is the statement you are trying to find evidence for.\n",
        "###2. Choose a significance level ($\\alpha$$\\alpha$):\n",
        "* This is the probability of rejecting the null hypothesis when it is actually true (Type I error). Commonly used values are 0.05 or 0.01.\n",
        "###3. Select an appropriate statistical test:\n",
        "* The choice of test depends on the type of data and the research question.\n",
        "###4. Calculate the test statistic:\n",
        "* This is a value computed from the sample data that is used to evaluate the hypothesis.\n",
        "###5. Determine the p-value:\n",
        "* This is the probability of obtaining a test statistic as extreme as, or more extreme than, the one observed, assuming the null hypothesis is true.\n",
        "###6. Make a decision:\n",
        "* Compare the p-value to the significance level ($\\alpha$$\\alpha$). If the p-value is less than or equal to $\\alpha$$\\alpha$, you reject the null hypothesis. Otherwise, you fail to reject the null hypothesis.\n",
        "###7. Interpret the results:\n",
        "* State your conclusion in the context of the research question."
      ],
      "metadata": {
        "id": "vfOTiE4rPXiZ"
      }
    },
    {
      "cell_type": "markdown",
      "metadata": {
        "id": "30f68425"
      },
      "source": [
        "## Question 2: What is the null hypothesis, and how does it differ from the alternative\n",
        "#hypothesis?\n",
        "\n",
        "Ans.\n",
        "\n",
        "*   **Null Hypothesis ($H_0$)**: The null hypothesis is a statement of no effect, no difference, or no relationship between variables. It is the statement that the researcher is trying to find evidence against. It often represents the status quo or a commonly accepted fact.\n",
        "\n",
        "*   **Alternative Hypothesis ($H_1$ or $H_a$)**: The alternative hypothesis is the statement that the researcher is trying to find evidence for. It is the opposite of the null hypothesis and suggests that there is a significant effect, difference, or relationship between variables.\n",
        "\n",
        "**Key Differences:**\n",
        "\n",
        "*   **Purpose:** The null hypothesis is the statement being tested, while the alternative hypothesis is the statement you hope to support.\n",
        "*   **Starting Point:** In hypothesis testing, we assume the null hypothesis is true and then look for evidence to reject it in favor of the alternative hypothesis.\n",
        "*   **Outcome:** If we find enough evidence to reject the null hypothesis, we accept the alternative hypothesis. If we don't find enough evidence to reject the null hypothesis, we fail to reject it (we don't necessarily accept it as true, but we don't have enough evidence to say it's false)."
      ]
    },
    {
      "cell_type": "markdown",
      "metadata": {
        "id": "1f0342ec"
      },
      "source": [
        "## Question 3: Explain the significance level in hypothesis testing and its role in deciding the outcome of a test\n",
        "\n",
        "Ans.\n",
        "\n",
        "*   **Significance Level ($\\alpha$)**: The significance level, denoted by $\\alpha$, is a predetermined threshold used in hypothesis testing to decide whether to reject the null hypothesis. It represents the maximum probability of making a Type I error, which is the error of rejecting the null hypothesis when it is actually true.\n",
        "\n",
        "*   **Role in Deciding the Outcome**: The significance level plays a crucial role in the decision-making process of hypothesis testing. After calculating the test statistic and determining the p-value, the p-value is compared to the significance level ($\\alpha$).\n",
        "\n",
        "    *   **If the p-value $\\le \\alpha$**: This indicates that the observed data is unlikely to have occurred if the null hypothesis were true. Therefore, we reject the null hypothesis in favor of the alternative hypothesis.\n",
        "    *   **If the p-value $ > \\alpha$**: This indicates that the observed data is reasonably likely to have occurred if the null hypothesis were true. Therefore, we fail to reject the null hypothesis.\n",
        "\n",
        "*   **Commonly Used Values**: The most commonly used significance levels are 0.05 (or 5%) and 0.01 (or 1%). A significance level of 0.05 means that there is a 5% chance of rejecting the null hypothesis when it is true.\n",
        "\n",
        "In summary, the significance level provides a benchmark for evaluating the evidence against the null hypothesis. It helps us to control the risk of making a Type I error and guides our decision on whether to accept or reject the null hypothesis."
      ]
    },
    {
      "cell_type": "markdown",
      "metadata": {
        "id": "cc119a3b"
      },
      "source": [
        "## Question 4: What are Type I and Type II errors? Give examples of each.\n",
        "\n",
        "Ans.\n",
        "\n",
        "In hypothesis testing, there are two main types of errors that can occur:\n",
        "\n",
        "*   **Type I Error (False Positive)**: A Type I error occurs when you reject the null hypothesis when it is actually true. This is often referred to as a \"false positive.\" The probability of making a Type I error is denoted by $\\alpha$ (the significance level).\n",
        "\n",
        "    *   **Example:** A medical test is conducted to see if a patient has a certain disease. The null hypothesis ($H_0$) is that the patient does not have the disease. The alternative hypothesis ($H_1$) is that the patient does have the disease. A Type I error would occur if the test results in a positive diagnosis (rejecting $H_0$), but the patient actually does not have the disease.\n",
        "\n",
        "*   **Type II Error (False Negative)**: A Type II error occurs when you fail to reject the null hypothesis when it is actually false. This is often referred to as a \"false negative.\" The probability of making a Type II error is denoted by $\\beta$.\n",
        "\n",
        "    *   **Example:** Using the same medical test example, a Type II error would occur if the test results in a negative diagnosis (failing to reject $H_0$), but the patient actually does have the disease.\n",
        "\n",
        "**Summary Table:**\n",
        "\n",
        "|                   | Null Hypothesis is True | Null Hypothesis is False |\n",
        "| :---------------- | :---------------------- | :----------------------- |\n",
        "| **Reject $H_0$**  | Type I Error ($\\alpha$) | Correct Decision         |\n",
        "| **Fail to Reject $H_0$** | Correct Decision        | Type II Error ($\\beta$)  |\n",
        "\n",
        "It's important to understand and consider the potential for both Type I and Type II errors when conducting hypothesis tests and interpreting their results. The choice of significance level ($\\alpha$) affects the trade-off between these two types of errors. Decreasing $\\alpha$ reduces the risk of a Type I error but increases the risk of a Type II error, and vice versa."
      ]
    },
    {
      "cell_type": "markdown",
      "metadata": {
        "id": "a8ac7fbe"
      },
      "source": [
        "## Question 5: What is the difference between a Z-test and a T-test? Explain when to use each.\n",
        "\n",
        "Ans.\n",
        "\n",
        "Both Z-tests and T-tests are statistical hypothesis tests used to determine if there is a significant difference between the means of two groups or between a sample mean and a known population mean. The key difference lies in the information you have about the population standard deviation and the sample size.\n",
        "\n",
        "**Z-test:**\n",
        "\n",
        "*   **When to use:** A Z-test is used when you know the **population standard deviation ($\\sigma$)** and the **sample size is large (typically n > 30)**.\n",
        "*   **Assumption:** The data is assumed to be normally distributed or the sample size is large enough for the Central Limit Theorem to apply.\n",
        "*   **Test Statistic:** The Z-test statistic is calculated as:\n",
        "\n",
        "    $Z = \\frac{\\bar{x} - \\mu}{\\sigma / \\sqrt{n}}$\n",
        "\n",
        "    where:\n",
        "    *   $\\bar{x}$ is the sample mean\n",
        "    *   $\\mu$ is the population mean\n",
        "    *   $\\sigma$ is the population standard deviation\n",
        "    *   $n$ is the sample size\n",
        "\n",
        "**T-test:**\n",
        "\n",
        "*   **When to use:** A T-test is used when you **do not know the population standard deviation** and you are using the **sample standard deviation (s)** as an estimate. It is particularly useful when the **sample size is small (typically n < 30)**, but it can also be used with larger sample sizes.\n",
        "*   **Assumption:** The data is assumed to be approximately normally distributed.\n",
        "*   **Test Statistic:** The T-test statistic is calculated as:\n",
        "\n",
        "    $t = \\frac{\\bar{x} - \\mu}{s / \\sqrt{n}}$\n",
        "\n",
        "    where:\n",
        "    *   $\\bar{x}$ is the sample mean\n",
        "    *   $\\mu$ is the population mean\n",
        "    *   $s$ is the sample standard deviation\n",
        "    *   $n$ is the sample size\n",
        "\n",
        "**Summary of Differences:**\n",
        "\n",
        "| Feature                | Z-test                                  | T-test                                     |\n",
        "| :--------------------- | :-------------------------------------- | :----------------------------------------- |\n",
        "| **Population $\\sigma$** | Known                                   | Unknown (estimated by sample s)            |\n",
        "| **Sample Size**        | Large (n > 30, or population is normal) | Small (n < 30, or population is unknown) |\n",
        "| **Distribution**       | Normal distribution                     | t-distribution                             |\n",
        "\n",
        "In practice, since the population standard deviation is rarely known, T-tests are more commonly used than Z-tests. However, for large sample sizes, the t-distribution approximates the normal distribution, and the results of a T-test will be very similar to those of a Z-test."
      ]
    },
    {
      "cell_type": "markdown",
      "source": [
        "##Question 6: Write a Python program to generate a binomial distribution with n=10 and p=0.5, then plot its histogram.\n",
        "(Include your Python code and output in the code box below.)\n",
        "Hint: Generate random number using random function."
      ],
      "metadata": {
        "id": "t2sNQoUGTCGB"
      }
    },
    {
      "cell_type": "code",
      "source": [
        "import numpy as np\n",
        "import matplotlib.pyplot as plt\n",
        "\n",
        "# Set parameters for the binomial distribution\n",
        "n = 10  # number of trials\n",
        "p = 0.5 # probability of success\n",
        "\n",
        "# Generate binomial distribution data\n",
        "binomial_data = np.random.binomial(n, p, 1000) # Generate 1000 data points\n",
        "\n",
        "# Plot the histogram\n",
        "plt.hist(binomial_data, bins=np.arange(-0.5, n+1.5, 1), edgecolor='black')\n",
        "plt.xlabel('Number of Successes')\n",
        "plt.ylabel('Frequency')\n",
        "plt.title('Histogram of Binomial Distribution (n=10, p=0.5)')\n",
        "plt.xticks(range(n+1))\n",
        "plt.grid(axis='y', alpha=0.75)\n",
        "plt.show()"
      ],
      "metadata": {
        "id": "kA16LDoqTL_I"
      },
      "execution_count": null,
      "outputs": []
    },
    {
      "cell_type": "markdown",
      "source": [
        "##Question 7: Implement hypothesis testing using Z-statistics for a sample dataset in Python. Show the Python code and interpret the results.\n",
        "\n",
        "sample_data =  [49.1, 50.2, 51.0, 48.7, 50.5, 49.8, 50.3, 50.7, 50.2, 49.6,\n",
        "50.1, 49.9, 50.8, 50.4, 48.9, 50.6, 50.0, 49.7, 50.2, 49.5,\n",
        "50.1, 50.3, 50.4, 50.5, 50.0, 50.7, 49.3, 49.8, 50.2, 50.9,\n",
        "50.3, 50.4, 50.0, 49.7, 50.5, 49.9]\n",
        "(Include your Python code and output in the code box below.)\n"
      ],
      "metadata": {
        "id": "xqSv4HrVUJl5"
      }
    },
    {
      "cell_type": "code",
      "metadata": {
        "id": "7555af7e"
      },
      "source": [
        "import numpy as np\n",
        "from statsmodels.stats.weightstats import ztest\n",
        "\n",
        "# Sample data\n",
        "sample_data = [49.1, 50.2, 51.0, 48.7, 50.5, 49.8, 50.3, 50.7, 50.2, 49.6,\n",
        "               50.1, 49.9, 50.8, 50.4, 48.9, 50.6, 50.0, 49.7, 50.2, 49.5,\n",
        "               50.1, 50.3, 50.4, 50.5, 50.0, 50.7, 49.3, 49.8, 50.2, 50.9,\n",
        "               50.3, 50.4, 50.0, 49.7, 50.5, 49.9]\n",
        "\n",
        "# Assume a population mean (hypothesized value)\n",
        "# For a Z-test with unknown population standard deviation (which is the case here\n",
        "# since we are using sample_data), statsmodels' ztest will use the sample standard deviation\n",
        "# and perform a test equivalent to a t-test for large samples.\n",
        "# If you had the population standard deviation, you would typically perform the Z-test manually\n",
        "# or use a function that specifically allows for known population standard deviation.\n",
        "# However, given the function used, we proceed without specifying std.\n",
        "\n",
        "# Let's assume a hypothesized population mean (e.g., 50)\n",
        "hypothesized_mean = 50\n",
        "\n",
        "# Perform the Z-test\n",
        "# The ztest function returns the z-statistic and the p-value\n",
        "z_statistic, p_value = ztest(sample_data, value=hypothesized_mean)\n",
        "\n",
        "# Set the significance level\n",
        "alpha = 0.05\n",
        "\n",
        "# Print the results\n",
        "print(f\"Sample Mean: {np.mean(sample_data):.4f}\")\n",
        "print(f\"Hypothesized Population Mean: {hypothesized_mean}\")\n",
        "print(f\"Z-statistic: {z_statistic:.4f}\")\n",
        "print(f\"P-value: {p_value:.4f}\")\n",
        "print(f\"Significance Level (alpha): {alpha}\")\n",
        "\n",
        "# Interpret the results\n",
        "if p_value < alpha:\n",
        "    print(\"\\nInterpretation: Since the p-value is less than the significance level (alpha), we reject the null hypothesis.\")\n",
        "    print(\"There is sufficient evidence to suggest that the sample mean is significantly different from the hypothesized population mean.\")\n",
        "else:\n",
        "    print(\"\\nInterpretation: Since the p-value is greater than the significance level (alpha), we fail to reject the null hypothesis.\")\n",
        "    print(\"There is not enough evidence to suggest that the sample mean is significantly different from the hypothesized population mean.\")"
      ],
      "execution_count": null,
      "outputs": []
    },
    {
      "cell_type": "markdown",
      "source": [
        "##Question 8: Write a Python script to simulate data from a normal distribution and calculate the 95% confidence interval for its mean. Plot the data using Matplotlib.\n",
        "(Include your Python code and output in the code box below.)"
      ],
      "metadata": {
        "id": "92w4Xy1AVQCB"
      }
    },
    {
      "cell_type": "code",
      "metadata": {
        "id": "594cdd60"
      },
      "source": [
        "import numpy as np\n",
        "import matplotlib.pyplot as plt\n",
        "from scipy import stats\n",
        "\n",
        "# Set parameters for the normal distribution\n",
        "mu = 70 # mean\n",
        "sigma = 10 # standard deviation\n",
        "sample_size = 100 # number of data points\n",
        "\n",
        "# Simulate data from a normal distribution\n",
        "np.random.seed(42) # for reproducibility\n",
        "normal_data = np.random.normal(mu, sigma, sample_size)\n",
        "\n",
        "# Calculate the 95% confidence interval for the mean\n",
        "confidence_level = 0.95\n",
        "degrees_freedom = sample_size - 1\n",
        "sample_mean = np.mean(normal_data)\n",
        "sample_standard_error = stats.sem(normal_data) # Standard error of the mean\n",
        "\n",
        "# Calculate the confidence interval using the t-distribution (since population std is unknown)\n",
        "confidence_interval = stats.t.interval(confidence_level, degrees_freedom,\n",
        "                                       loc=sample_mean, scale=sample_standard_error)\n",
        "\n",
        "# Print the results\n",
        "print(f\"Simulated Data Mean: {sample_mean:.4f}\")\n",
        "print(f\"95% Confidence Interval for the Mean: ({confidence_interval[0]:.4f}, {confidence_interval[1]:.4f})\")\n",
        "\n",
        "# Plot the data\n",
        "plt.figure(figsize=(10, 6))\n",
        "plt.hist(normal_data, bins=20, density=True, alpha=0.6, color='g')\n",
        "plt.xlabel('Value')\n",
        "plt.ylabel('Frequency')\n",
        "plt.title('Histogram of Simulated Normal Distribution Data')\n",
        "plt.grid(True)\n",
        "plt.show()"
      ],
      "execution_count": null,
      "outputs": []
    },
    {
      "cell_type": "markdown",
      "source": [
        "##Question 9: Write a Python function to calculate the Z-scores from a dataset and visualize the standardized data using a histogram. Explain what the Z-scores represent in terms of standard deviations from the mean.\n",
        "(Include your Python code and output in the code box below.)"
      ],
      "metadata": {
        "id": "HP01XrcVVnsZ"
      }
    },
    {
      "cell_type": "code",
      "metadata": {
        "id": "53fc0bbb"
      },
      "source": [
        "import numpy as np\n",
        "import matplotlib.pyplot as plt\n",
        "from scipy.stats import zscore\n",
        "\n",
        "# Create a sample dataset\n",
        "data = np.array([10, 12, 15, 11, 13, 18, 16, 17, 14, 19])\n",
        "\n",
        "# Calculate Z-scores\n",
        "z_scores = zscore(data)\n",
        "\n",
        "# Print the original data and Z-scores\n",
        "print(\"Original Data:\", data)\n",
        "print(\"Z-scores:\", z_scores)\n",
        "\n",
        "# Visualize the standardized data (Z-scores) using a histogram\n",
        "plt.figure(figsize=(8, 6))\n",
        "plt.hist(z_scores, bins=5, edgecolor='black')\n",
        "plt.xlabel('Z-score')\n",
        "plt.ylabel('Frequency')\n",
        "plt.title('Histogram of Standardized Data (Z-scores)')\n",
        "plt.grid(True)\n",
        "plt.show()\n",
        "\n",
        "# Explanation of Z-scores\n",
        "print(\"\\nExplanation of Z-scores:\")\n",
        "print(\"Z-scores represent the number of standard deviations a data point is away from the mean of the dataset.\")\n",
        "print(\"A Z-score of 0 means the data point is equal to the mean.\")\n",
        "print(\"A positive Z-score indicates the data point is above the mean.\")\n",
        "print(\"A negative Z-score indicates the data point is below the mean.\")\n",
        "print(\"The magnitude of the Z-score indicates how many standard deviations away from the mean the data point is.\")"
      ],
      "execution_count": null,
      "outputs": []
    }
  ]
}